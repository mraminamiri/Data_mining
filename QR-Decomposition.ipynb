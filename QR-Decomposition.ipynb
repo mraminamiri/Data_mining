{
 "cells": [
  {
   "cell_type": "markdown",
   "id": "72a54a53",
   "metadata": {},
   "source": [
    "# HW 1.1\n",
    "\n",
    "\n",
    "# QR Decomposition\n",
    "\n",
    "QR decomposition, also known as a QR factorization or QU factorization, is a decomposition of a matrix A into a product A = QR of an orthonormal matrix Q and an upper triangular matrix R. QR decomposition is often used to solve the linear least squares problem and is the basis for a particular eigenvalue algorithm, the QR algorithm.\n",
    "\n",
    "## Computing the QR decomposition\n",
    "\n",
    "There are several methods for actually computing the QR decomposition, such as by means of the Gram–Schmidt process, Householder transformations, or Givens rotations. **In this homework, we will use Gram–Schmidt process to compute QR decomposition**\n",
    "\n",
    "**Important: You will get extra score if you compute QR decomposition using another algorithm!**\n"
   ]
  },
  {
   "cell_type": "code",
   "execution_count": 1,
   "id": "de0c4f40",
   "metadata": {},
   "outputs": [],
   "source": [
    "from math import sqrt\n",
    "import numpy as np\n",
    "\n",
    "epsilon = 10e-5"
   ]
  },
  {
   "cell_type": "markdown",
   "id": "682ded03",
   "metadata": {},
   "source": [
    "## Gram–Schmidt process\n",
    "Here is an overview of Gram-Schmidt process:\n",
    "![GS](https://i.ibb.co/GdHsWpD/image.png)\n"
   ]
  },
  {
   "cell_type": "markdown",
   "id": "950bfaa7",
   "metadata": {},
   "source": [
    "### Compute $\\hat{q}$ in `q_hat_calculate` function:"
   ]
  },
  {
   "cell_type": "code",
   "execution_count": 2,
   "id": "9cd25649",
   "metadata": {},
   "outputs": [],
   "source": [
    "def q_hat_calculate(index, vector, vectors):\n",
    "    \"\"\"\n",
    "    :param index: the i that we want to calculate q_hat for\n",
    "    :param vector: the ith vector that we want to calculate q_hat for\n",
    "    :param vectors: the previous q's that we calculated\n",
    "    :return: q hat vector, vector R for QR decomposition\n",
    "    \"\"\"\n",
    "    #### Your code here\n",
    "    if not isinstance(vectors, np.ndarray):\n",
    "        vectors = np.ndarray(vectors)\n",
    "    \n",
    "    q_hat = vector.copy()\n",
    "    \n",
    "    for q in vectors.T[:index, :]:\n",
    "        q_hat -= np.dot(q, vector) * q\n",
    "        \n",
    "    return q_hat"
   ]
  },
  {
   "cell_type": "markdown",
   "id": "6d683c87",
   "metadata": {},
   "source": [
    "### Implement Gram-Schmidt algorithm:"
   ]
  },
  {
   "cell_type": "code",
   "execution_count": 3,
   "id": "57240dc9",
   "metadata": {},
   "outputs": [],
   "source": [
    "def gram_schmidt_algorithm(vectors):\n",
    "    vectors = np.array(vectors, dtype='float32')\n",
    "    dependant_vectors_index = []  # the index of vectors that are dependent\n",
    "    orthonormal_basis = np.zeros(shape=vectors.shape, dtype='float32')  # Save orthonormal basis in this\n",
    "    column_count = 0\n",
    "\n",
    "    r_vector = np.zeros(shape=(vectors.shape[1], vectors.shape[1]), dtype='float32')  # Norms of \\hat{q}\n",
    "\n",
    "    for index, column in enumerate(vectors.T):\n",
    "        ############## Your code here\n",
    "        if index == 0:\n",
    "            q_hat_norm = np.linalg.norm(column)\n",
    "            orthonormal_basis.T[column_count] = column / q_hat_norm\n",
    "            r_vector.T[0] = np.array([np.dot(column, orthonormal_basis.T[0]), 0, 0])\n",
    "            column_count += 1\n",
    "\n",
    "        else:\n",
    "            q_hat = q_hat_calculate(index, column, orthonormal_basis)\n",
    "            q_hat_norm = np.linalg.norm(q_hat)\n",
    "            \n",
    "            ##### Handle the dependant vectors: (Hint: use `epsilon` variable)\n",
    "            if q_hat_norm > epsilon:\n",
    "                orthonormal_basis.T[column_count] = q_hat / q_hat_norm\n",
    "                column_count += 1\n",
    "            else:\n",
    "                dependant_vectors_index.append(index)\n",
    "                \n",
    "            for index_dep in dependant_vectors_index:\n",
    "                r_vector[index_dep][index] = 0.0\n",
    "            \n",
    "            for i in range(index + 1):\n",
    "                r_vector.T[index][i] = np.dot(column, orthonormal_basis.T[i])\n",
    "                \n",
    "        ###############\n",
    "\n",
    "    print(f'the input vectors are:\\n{vectors}')\n",
    "    print(100 * '-')\n",
    "\n",
    "    if column_count == vectors.shape[1]:  # all vectors were independent\n",
    "        print(f'the vectors were linearly independent and orthonormal basis:\\n{orthonormal_basis}')\n",
    "\n",
    "    return orthonormal_basis, r_vector"
   ]
  },
  {
   "cell_type": "code",
   "execution_count": 4,
   "id": "d21e76d0",
   "metadata": {},
   "outputs": [
    {
     "name": "stdout",
     "output_type": "stream",
     "text": [
      "the input vectors are:\n",
      "[[ 1. -1.  4.]\n",
      " [ 1.  4. -2.]\n",
      " [ 1.  4.  2.]\n",
      " [ 1. -1.  0.]]\n",
      "----------------------------------------------------------------------------------------------------\n",
      "the vectors were linearly independent and orthonormal basis:\n",
      "[[ 0.5 -0.5  0.5]\n",
      " [ 0.5  0.5 -0.5]\n",
      " [ 0.5  0.5  0.5]\n",
      " [ 0.5 -0.5 -0.5]]\n",
      "Q=\n",
      "[[ 0.5 -0.5  0.5]\n",
      " [ 0.5  0.5 -0.5]\n",
      " [ 0.5  0.5  0.5]\n",
      " [ 0.5 -0.5 -0.5]]\n",
      "R=\n",
      "[[ 2.  3.  2.]\n",
      " [ 0.  5. -2.]\n",
      " [ 0.  0.  4.]]\n"
     ]
    }
   ],
   "source": [
    "vec = [[1, -1, 4],\n",
    "       [1, 4, -2],\n",
    "       [1, 4, 2],\n",
    "       [1, -1, 0]]\n",
    "\n",
    "Q, R = gram_schmidt_algorithm(vectors=vec)\n",
    "print(f'Q=\\n{Q}')\n",
    "print(f'R=\\n{R}')"
   ]
  },
  {
   "cell_type": "code",
   "execution_count": 5,
   "id": "d26fbec3",
   "metadata": {},
   "outputs": [
    {
     "data": {
      "text/plain": [
       "array([[ True,  True,  True],\n",
       "       [ True,  True,  True],\n",
       "       [ True,  True,  True],\n",
       "       [ True,  True,  True]])"
      ]
     },
     "execution_count": 5,
     "metadata": {},
     "output_type": "execute_result"
    }
   ],
   "source": [
    "np.dot(Q, R) == vec   #q"
   ]
  },
  {
   "cell_type": "code",
   "execution_count": null,
   "id": "adae5b15",
   "metadata": {},
   "outputs": [],
   "source": []
  }
 ],
 "metadata": {
  "kernelspec": {
   "display_name": "Python 3 (ipykernel)",
   "language": "python",
   "name": "python3"
  },
  "language_info": {
   "codemirror_mode": {
    "name": "ipython",
    "version": 3
   },
   "file_extension": ".py",
   "mimetype": "text/x-python",
   "name": "python",
   "nbconvert_exporter": "python",
   "pygments_lexer": "ipython3",
   "version": "3.9.13"
  }
 },
 "nbformat": 4,
 "nbformat_minor": 5
}
