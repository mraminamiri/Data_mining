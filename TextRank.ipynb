{
 "cells": [
  {
   "cell_type": "markdown",
   "metadata": {
    "id": "Z2ejBtjAiKOt"
   },
   "source": [
    "# TextRank: Bringing Order into Texts\n",
    "In this part you will implement [TextRank: Bringing Order into Texts](https://web.eecs.umich.edu/~mihalcea/papers/mihalcea.emnlp04.pdf) paper.\n",
    "\n",
    "[Mihalcea](https://scholar.google.com/citations?user=UetM7FgAAAAJ&hl=en) and [Tarau](https://scholar.google.com/citations?user=JUMRc-oAAAAJ&hl=en) in this paper, introduced TextRank – a **graphbased ranking model for text processing**, and show how it can be successfully used for natural language applications. In particular, they proposed and evaluated two innovative unsupervised approaches for keyword and sentence extraction.\n",
    "\n",
    "The basic idea implemented by a graph-based ranking model is that of “voting” or “recommendation”.\n",
    "\n",
    "When one vertex links to another one, it is basically casting a vote for that other vertex. The higher the number of votes that are cast for a vertex, the higher the importance of the vertex. Moreover, the importance of the vertex casting the vote determines how important the vote itself is, and this information is also taken into account by the ranking model.**This paper relies on Google's PageRank**.\n",
    "\n",
    "## Defenition\n",
    "\n",
    "Formally, let $G=(V, E)$ be a directed graph with the set of vertices $V$ and set of edges $E$, where $E$ is a subset of $V \\times V$. For a given vertex $V_i$ , let $In(V_i)$ be the set of vertices that point to it (predecessors), and let $Out(V_i)$ be the set of vertices that vertex $V_i$ points to (successors). The score of a vertex $V_i$ is defined as follows (Brin and Page, 1998):\n",
    "\n",
    "$S(V_i) = (1-d) + d* \\sum_{j \\in In(V_i)} \\frac{1}{|Out(V_j)|}S(V_j)$\n",
    "\n",
    "\n",
    "where d is a damping factor and usually set to 0.85.\n",
    "\n",
    "## Graph representation\n",
    "\n",
    "TextRank builds a weighted graph representation of a document using words as nodes and **co-ocurrence** [<sup>1</sup>](#fn1) frequencies between pairs of words as edge weights. It then applies PageRank to this graph, and treats the PageRank score of each word as its significance.\n",
    "\n",
    "<img src=\"textrank.png\" width=\"400\" align=\"center\">\n",
    "\n",
    "<span id=\"fn1\"> [1]: In linguistics, co-occurrence or cooccurrence is an above-chance frequency of occurrence of two terms (also known as coincidence or concurrence) from a text corpus alongside each other in a certain order. For example, when the term \"strong coffee\" appears in a document, the term \"espresso bean\" probably also tends to occur in that document.</span>\n"
   ]
  },
  {
   "cell_type": "code",
   "execution_count": 1,
   "metadata": {
    "colab": {
     "base_uri": "https://localhost:8080/",
     "height": 375
    },
    "executionInfo": {
     "elapsed": 381,
     "status": "error",
     "timestamp": 1707425598579,
     "user": {
      "displayName": "amin amir",
      "userId": "13654674929547995719"
     },
     "user_tz": -210
    },
    "id": "52pIr_LZiKOv",
    "outputId": "f6271582-a3b8-444c-f5ad-341c3c814f9e"
   },
   "outputs": [
    {
     "name": "stderr",
     "output_type": "stream",
     "text": [
      "/Users/amin/opt/anaconda3/lib/python3.9/site-packages/scipy/__init__.py:155: UserWarning: A NumPy version >=1.18.5 and <1.25.0 is required for this version of SciPy (detected version 1.26.3\n",
      "  warnings.warn(f\"A NumPy version >={np_minversion} and <{np_maxversion}\"\n"
     ]
    }
   ],
   "source": [
    "import os\n",
    "import sys\n",
    "import copy\n",
    "import collections\n",
    "\n",
    "import nltk\n",
    "import nltk.tokenize\n",
    "\n",
    "sys.path.append(\".\")\n",
    "\n",
    "import pandas\n",
    "import page_rank\n",
    "import text_rank"
   ]
  },
  {
   "cell_type": "code",
   "execution_count": 2,
   "metadata": {
    "colab": {
     "base_uri": "https://localhost:8080/"
    },
    "executionInfo": {
     "elapsed": 402,
     "status": "ok",
     "timestamp": 1707309802761,
     "user": {
      "displayName": "amin amir",
      "userId": "13654674929547995719"
     },
     "user_tz": -210
    },
    "id": "QSh42k_wiKOv",
    "outputId": "bcb6751b-7961-4144-f66f-a1c24e6e705b"
   },
   "outputs": [
    {
     "name": "stderr",
     "output_type": "stream",
     "text": [
      "[nltk_data] Downloading package punkt to /Users/amin/nltk_data...\n",
      "[nltk_data]   Package punkt is already up-to-date!\n",
      "[nltk_data] Downloading package averaged_perceptron_tagger to\n",
      "[nltk_data]     /Users/amin/nltk_data...\n",
      "[nltk_data]   Package averaged_perceptron_tagger is already up-to-\n",
      "[nltk_data]       date!\n"
     ]
    },
    {
     "data": {
      "text/plain": [
       "True"
      ]
     },
     "execution_count": 2,
     "metadata": {},
     "output_type": "execute_result"
    }
   ],
   "source": [
    "nltk.download('punkt')\n",
    "nltk.download('averaged_perceptron_tagger')"
   ]
  },
  {
   "cell_type": "markdown",
   "metadata": {
    "id": "hlf262b9iKOw"
   },
   "source": [
    "## Preprocessing\n",
    "**Tokenization** is a common task in **Natural Language Processing** (NLP). It’s a fundamental step in both traditional NLP methods like Count Vectorizer and Advanced Deep Learning-based architectures like [Transformers](https://www.analyticsvidhya.com/blog/2019/06/understanding-transformers-nlp-state-of-the-art-models/?utm_source=blog&utm_medium=what-is-tokenization-nlp).\n",
    "\n",
    "This is the process by which a large quantity of text is divided into smaller parts called **tokens**.\n",
    "\n",
    "Natural Language toolkit has very important module [**NLTK**](https://www.nltk.org/api/nltk.tokenize.html) tokenize sentences which further comprises of sub-modules word tokenize and sentence tokenize.\n",
    "\n",
    "We use the method [word_tokenize()](https://www.geeksforgeeks.org/python-nltk-nltk-tokenizer-word_tokenize/) to split a sentence into words. Please refer to below word tokenize NLTK example to understand the theory better.\n",
    "```python\n",
    "Input: \"I love Applied linear algebra! specially the projects.\"\n",
    "Output: ['I', 'love', 'Applied', 'linear', 'algebra', '!', 'specially', 'the', 'projects', '.']\n",
    "```\n",
    "After tokenizing the document we should filter irrelevant [PoS tags](https://en.wikipedia.org/wiki/Part-of-speech_tagging) and punctuation (e.g, !, ?)."
   ]
  },
  {
   "cell_type": "code",
   "execution_count": 3,
   "metadata": {
    "id": "KaW8WD9wiKOw"
   },
   "outputs": [],
   "source": [
    "from text_rank import __is_punctuation\n",
    "def __preprocess_document(document, relevant_pos_tags):\n",
    "    '''\n",
    "    This function accepts a string representation\n",
    "    of a document as input, and returns a tokenized\n",
    "    list of words corresponding to that document.\n",
    "    '''\n",
    "\n",
    "    # Tokenizing the document\n",
    "    words =   nltk.tokenize.word_tokenize(document)\n",
    "\n",
    "    # PoS tagging\n",
    "    # Your code here, use nltk.pos_tag for words and make a list of second pair\n",
    "\n",
    "    pos_tags = nltk.pos_tag(words)\n",
    "\n",
    "\n",
    "    # Filter out words with irrelevant POS tags\n",
    "    filtered_words = []\n",
    "    for index, word in enumerate(words):\n",
    "        word = word.lower()\n",
    "        tag = pos_tags[index]\n",
    "        # TODO: append `word` to `filtered_words` if the word is not a punctuation and pos is relevant.\n",
    "        # You can use `__is_punctuation` function and `relevant_pos_tags`\n",
    "        if tag[1] in relevant_pos_tags and not __is_punctuation(word):\n",
    "          filtered_words.append(word)\n",
    "\n",
    "\n",
    "    return filtered_words"
   ]
  },
  {
   "cell_type": "markdown",
   "metadata": {
    "id": "hngcisg0iKOw"
   },
   "source": [
    "## Ranking\n",
    "In this section, first we will implement weighted PageRank and use this function to implement textRank."
   ]
  },
  {
   "cell_type": "markdown",
   "metadata": {
    "id": "AxEQvanQiKOx"
   },
   "source": [
    "### PageRank using Power method"
   ]
  },
  {
   "cell_type": "code",
   "execution_count": 4,
   "metadata": {
    "id": "HLRUSp6MiKOx"
   },
   "outputs": [],
   "source": [
    "from numpy.linalg import norm\n",
    "def power_iteration(transition_weights, rsp=0.15, epsilon=0.00001, max_iterations=1000):\n",
    "    # Clerical work:\n",
    "    transition_weights = pandas.DataFrame(transition_weights)\n",
    "    nodes = page_rank.__extract_nodes(transition_weights)\n",
    "    transition_weights = page_rank.__make_square(transition_weights, nodes, default=0.0)\n",
    "    transition_weights = page_rank.__ensure_rows_positive(transition_weights)\n",
    "\n",
    "    # Setup:\n",
    "    state = page_rank.__start_state(nodes)\n",
    "    transition_probabilities = page_rank.__normalize_rows(transition_weights)\n",
    "\n",
    "    # Compute transition matrix\n",
    "    # Your code here\n",
    "    transition_matrix = (1-rsp) * transition_probabilities + (rsp / len(nodes))\n",
    "\n",
    "    # Power iteration:\n",
    "    # TODO: implement power method\n",
    "    # Use state.copy() for copying to old_state\n",
    "    for itseration in range(max_iterations):\n",
    "\n",
    "         old_state = state.copy()\n",
    "         state = state @ transition_matrix\n",
    "\n",
    "         if norm(state - old_state, ord=1) < epsilon:\n",
    "            break\n",
    "\n",
    "\n",
    "    return state"
   ]
  },
  {
   "cell_type": "markdown",
   "metadata": {
    "id": "7GV5tR9fiKOx"
   },
   "source": [
    "### TextRank algorithm\n",
    "Authors used a co-occurrence relation (as we discussed), controlled by the distance between word occurrences: **two vertices are connected** if their corresponding lexical units co-occur within a **window of maximum  words**, where  can be set anywhere from 2 to 10 word.\n",
    "\n",
    "\n",
    "The vertices added to the graph can be restricted with **syntactic filters**, which select only lexical units of a certain part of speech. One can for instance consider only nouns and verbs for addition to the graph, and consequently draw potential edges based only on relations that can be established between nouns and verb. Experiments showed that **best results observed for nouns (\"NN\") and adjectives (\"ADJ\") only**."
   ]
  },
  {
   "cell_type": "code",
   "execution_count": 5,
   "metadata": {
    "id": "zYByrWAOiKOx"
   },
   "outputs": [],
   "source": [
    "def textrank(document, window_size=2, rsp=0.15, relevant_pos_tags=[\"NN\", \"ADJ\"]):\n",
    "    '''\n",
    "    Accepts a string representation\n",
    "    of a document and returns Pandas matrix that maps words to their related TextRank scores.\n",
    "    Keyword arguments:\n",
    "    window_size: window of maximum words, can be set between 2 to 10. (default 2)\n",
    "    rsp:\n",
    "    relevant_pos_tags: list tags that graph is restricted by (default [\"NN\", \"ADJ\"])\n",
    "    '''\n",
    "\n",
    "    # Tokenize document:\n",
    "    words = __preprocess_document(document, relevant_pos_tags)\n",
    "\n",
    "\n",
    "    # Building the weighted graph:\n",
    "    # nodes: words\n",
    "    # edge weights number of times words cooccur within a window of predetermined size\n",
    "    edge_weights = collections.defaultdict(lambda: collections.Counter())\n",
    "    for index, word in enumerate(words):\n",
    "        for other_index in range(index - window_size, index + window_size + 1):\n",
    "            if other_index >= 0 and other_index < len(words) and other_index != index:\n",
    "                other_word = words[other_index]\n",
    "                edge_weights[word][other_word] += 1.0\n",
    "\n",
    "    # Apply `power_iteration` to `edge_weights` and sort the output\n",
    "    # Your code here\n",
    "    word_probabilities = power_iteration(edge_weights)\n",
    "    word_probabilities = pandas.DataFrame(word_probabilities)\n",
    "    word_probabilities.columns = [\"score\"]\n",
    "    word_probabilities.sort_values(by=\"score\", inplace=True, ascending=False)\n",
    "    return word_probabilities"
   ]
  },
  {
   "cell_type": "markdown",
   "metadata": {
    "id": "h787E_K1iKOx"
   },
   "source": [
    "## Apply TextRank"
   ]
  },
  {
   "cell_type": "code",
   "execution_count": 6,
   "metadata": {
    "id": "qDaYMaQtiKOy"
   },
   "outputs": [],
   "source": [
    "def apply_text_rank(file_name, title=\"a document\"):\n",
    "    print(\"Reading \\\"%s\\\" ...\" % title)\n",
    "    # Opening:\n",
    "\n",
    "    file_path = os.path.join(os.path.abspath(''), file_name)\n",
    "    document = open(file_path).read()\n",
    "    document = text_rank.__ascii_only(document)\n",
    "\n",
    "    print(\"Applying TextRank to \\\"%s\\\" ...\" % title)\n",
    "\n",
    "    # TODO: get TextRank vector\n",
    "    keyword_scores = textrank(document)\n",
    "    print()\n",
    "    header = \"Keyword Significance Scores for \\\"%s\\\":\" % title\n",
    "    print(header)\n",
    "    print(\"-\" * len(header))\n",
    "    print(keyword_scores)\n",
    "    print()"
   ]
  },
  {
   "cell_type": "markdown",
   "metadata": {
    "id": "O66HfCx_iKOy"
   },
   "source": [
    "### Cinderalla story"
   ]
  },
  {
   "cell_type": "code",
   "execution_count": 7,
   "metadata": {
    "colab": {
     "base_uri": "https://localhost:8080/"
    },
    "executionInfo": {
     "elapsed": 409,
     "status": "ok",
     "timestamp": 1707310699311,
     "user": {
      "displayName": "amin amir",
      "userId": "13654674929547995719"
     },
     "user_tz": -210
    },
    "id": "ZfVIr2VViKOy",
    "outputId": "89ce68ec-cdbb-4599-f0a8-3b65a5566081"
   },
   "outputs": [
    {
     "name": "stdout",
     "output_type": "stream",
     "text": [
      "Reading \"Cinderalla\" ...\n",
      "Applying TextRank to \"Cinderalla\" ...\n",
      "\n",
      "Keyword Significance Scores for \"Cinderalla\":\n",
      "---------------------------------------------\n",
      "               score\n",
      "ball        0.061121\n",
      "godmother   0.037069\n",
      "cinderella  0.036127\n",
      "slipper     0.023681\n",
      "everyone    0.022731\n",
      "...              ...\n",
      "flick       0.006599\n",
      "coachman    0.006272\n",
      "sobs        0.006257\n",
      "garden      0.006233\n",
      "palace      0.005507\n",
      "\n",
      "[90 rows x 1 columns]\n",
      "\n"
     ]
    }
   ],
   "source": [
    "apply_text_rank(\"Cinderalla.txt\", \"Cinderalla\")"
   ]
  },
  {
   "cell_type": "markdown",
   "metadata": {
    "id": "Oww4AFboiKOy"
   },
   "source": [
    "### Beauty_and_the_Beast story"
   ]
  },
  {
   "cell_type": "code",
   "execution_count": 8,
   "metadata": {
    "colab": {
     "base_uri": "https://localhost:8080/"
    },
    "executionInfo": {
     "elapsed": 634,
     "status": "ok",
     "timestamp": 1707310806551,
     "user": {
      "displayName": "amin amir",
      "userId": "13654674929547995719"
     },
     "user_tz": -210
    },
    "id": "EG463_ITiKOy",
    "outputId": "948079c7-a72f-4b19-b93d-dfb525aab601"
   },
   "outputs": [
    {
     "name": "stdout",
     "output_type": "stream",
     "text": [
      "Reading \"Beauty and the Beast\" ...\n",
      "Applying TextRank to \"Beauty and the Beast\" ...\n",
      "\n",
      "Keyword Significance Scores for \"Beauty and the Beast\":\n",
      "-------------------------------------------------------\n",
      "                score\n",
      "prince       0.082344\n",
      "princess     0.074164\n",
      "king         0.062941\n",
      "queen        0.050952\n",
      "kingdom      0.042631\n",
      "baby         0.037179\n",
      "girl         0.036224\n",
      "spindle      0.035760\n",
      "fairy        0.032813\n",
      "lady         0.029868\n",
      "palace       0.026403\n",
      "everyone     0.024609\n",
      "time         0.021454\n",
      "child        0.019616\n",
      "asleep       0.019211\n",
      "bride        0.013314\n",
      "wedding      0.013142\n",
      "way          0.012198\n",
      "sleeping     0.012110\n",
      "royal        0.012093\n",
      "rest         0.011870\n",
      "floor        0.011853\n",
      "slumber      0.011849\n",
      "fairys       0.011781\n",
      "world        0.011714\n",
      "sorry        0.011651\n",
      "spell        0.011607\n",
      "bed          0.011414\n",
      "forest       0.011348\n",
      "spinning     0.011324\n",
      "need         0.011303\n",
      "course       0.011299\n",
      "turn         0.011295\n",
      "moment       0.011195\n",
      "back         0.011171\n",
      "well         0.011154\n",
      "everybody    0.011134\n",
      "kind         0.010918\n",
      "birth        0.010896\n",
      "land         0.010893\n",
      "celebration  0.010618\n",
      "snoring      0.010616\n",
      "day          0.010592\n",
      "soon         0.010576\n",
      "sleep        0.010401\n",
      "die          0.010346\n",
      "crying       0.010238\n",
      "one          0.010062\n",
      "permission   0.009972\n",
      "love         0.009943\n",
      "speak        0.009942\n",
      "\n"
     ]
    }
   ],
   "source": [
    "apply_text_rank(\"Beauty_and_the_Beast.txt\", \"Beauty and the Beast\")"
   ]
  },
  {
   "cell_type": "code",
   "execution_count": 9,
   "metadata": {
    "id": "SqQzlv8hiKOy"
   },
   "outputs": [
    {
     "name": "stdout",
     "output_type": "stream",
     "text": [
      "Reading \"Harry Potter and The Half-Blood Prince\" ...\n",
      "Applying TextRank to \"Harry Potter and The Half-Blood Prince\" ...\n",
      "\n",
      "Keyword Significance Scores for \"Harry Potter and The Half-Blood Prince\":\n",
      "-------------------------------------------------------------------------\n",
      "                   score\n",
      "time            0.012453\n",
      "room            0.008527\n",
      "face            0.008350\n",
      "hand            0.008269\n",
      "voice           0.008240\n",
      "...                  ...\n",
      "magnifying      0.000073\n",
      "empty           0.000073\n",
      "attractiveness  0.000073\n",
      ".ilcncc         0.000073\n",
      "oui             0.000073\n",
      "\n",
      "[3949 rows x 1 columns]\n",
      "\n"
     ]
    }
   ],
   "source": [
    "# Optional: test textRank on another documents :))\n",
    "apply_text_rank('Harry Potter and The Half-Blood Prince.txt', \"Harry Potter and The Half-Blood Prince\")"
   ]
  },
  {
   "cell_type": "code",
   "execution_count": null,
   "metadata": {},
   "outputs": [],
   "source": []
  }
 ],
 "metadata": {
  "colab": {
   "provenance": [],
   "toc_visible": true
  },
  "kernelspec": {
   "display_name": "Python 3 (ipykernel)",
   "language": "python",
   "name": "python3"
  },
  "language_info": {
   "codemirror_mode": {
    "name": "ipython",
    "version": 3
   },
   "file_extension": ".py",
   "mimetype": "text/x-python",
   "name": "python",
   "nbconvert_exporter": "python",
   "pygments_lexer": "ipython3",
   "version": "3.9.13"
  }
 },
 "nbformat": 4,
 "nbformat_minor": 1
}
